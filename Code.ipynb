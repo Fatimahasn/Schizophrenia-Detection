{
  "cells": [
    {
      "cell_type": "code",
      "execution_count": 2,
      "metadata": {
        "colab": {
          "base_uri": "https://localhost:8080/"
        },
        "id": "tvHJBMIiOuSU",
        "outputId": "fe5de7bb-6c83-46fe-f505-b2b1039c7f16"
      },
      "outputs": [
        {
          "output_type": "stream",
          "name": "stdout",
          "text": [
            "Mounted at /content/drive\n"
          ]
        }
      ],
      "source": [
        "# Mount your google drive\n",
        "from google.colab import drive\n",
        "drive.mount('/content/drive')"
      ]
    },
    {
      "cell_type": "code",
      "execution_count": 3,
      "metadata": {
        "id": "B14U_noBxgXl"
      },
      "outputs": [],
      "source": [
        "# Install the required libraries\n",
        "import pandas as pd\n",
        "import numpy as np\n",
        "import os\n",
        "from sklearn.linear_model import LogisticRegression\n",
        "from sklearn.svm import SVC\n",
        "from sklearn.ensemble import GradientBoostingClassifier, RandomForestClassifier\n",
        "from sklearn import model_selection\n",
        "from sklearn.preprocessing import StandardScaler\n",
        "from tensorflow.keras.models import Sequential, load_model, Model\n",
        "from tensorflow.keras.layers import Conv1D, MaxPooling1D, Dense, Flatten, Input, Dropout, Reshape, AveragePooling1D, BatchNormalization\n",
        "from tensorflow.keras.regularizers import l2\n",
        "from tensorflow.keras.optimizers import SGD, Adam\n",
        "from tensorflow.keras.utils import to_categorical\n",
        "from tensorflow.keras import activations\n",
        "from keras.callbacks import EarlyStopping, ModelCheckpoint\n",
        "from sklearn.model_selection import StratifiedKFold"
      ]
    },
    {
      "cell_type": "markdown",
      "metadata": {
        "id": "vkV7tWcTKoX9"
      },
      "source": [
        "Dataset: \n",
        "\n",
        "---\n",
        "\n",
        "\n",
        "We have used publicly available dataset of EEG signals from the Institute of Psychiatry and Neurology in Warsaw, Poland, which publicly provide a dataset of EEG signals . It consists of data of 14 paranoid SZ and 14 normal subjects. Fifteen minutes of EEG data was recorded for each subject with a sampling frequency of 250Hz using the standard 10-20 system. The electrodes used were Fp1, Fp2, F7, F3, Fz, F4, F8, T3, C3, Cz, C4, T4, T5, P3, Pz, P4, T6, O1, O2."
      ]
    },
    {
      "cell_type": "markdown",
      "source": [
        "The code is given below. For different experiments, only you need to load a dataset and change the parameters of CNN according to the one given in paper."
      ],
      "metadata": {
        "id": "AczOS2vyNTod"
      }
    },
    {
      "cell_type": "code",
      "execution_count": 5,
      "metadata": {
        "id": "Cao2VrQuD7LW"
      },
      "outputs": [],
      "source": [
        "def load_dataset(filename):\n",
        "  \"\"\"\n",
        "  Loads the dataset from the specified file and returns the feature and target variables as separate arrays.\n",
        "  \n",
        "  Args:\n",
        "  - filename (str): The name of the CSV file containing the dataset.\n",
        "  \n",
        "  Returns:\n",
        "  - X (pandas DataFrame): The feature variables.\n",
        "  - Y (pandas Series): The target variable.\n",
        "  \n",
        "  \"\"\"\n",
        "\n",
        "  data = pd.read_csv(filename)\n",
        "  X=data.iloc[:,:-1]\n",
        "  Y=data.iloc[:,-1]\n",
        "  return X,Y\n",
        "\n",
        "def dataPreprocessing(features, labels):\n",
        "  \n",
        "  \"\"\"\n",
        "  Normalizes the input data by subtracting the mean and dividing by the standard deviation.\n",
        "  \n",
        "  Args:\n",
        "  - features (pandas DataFrame): The feature variables.\n",
        "  - labels (pandas Series): The target variable.\n",
        "  \n",
        "  Returns:\n",
        "  - normalized_data (numpy array): The normalized feature variables.\n",
        "  \n",
        "  \"\"\"\n",
        "\n",
        "  df = features.copy()\n",
        "  for column in df.columns:\n",
        "    df[column] = (df[column] - df[column].mean()) / df[column].std()\n",
        "  normalized_data = np.array(df[:])\n",
        "  return normalized_data\n",
        "\n",
        "def CNN():\n",
        "  \n",
        "  \"\"\"\n",
        "  Defines and compiles a Convolutional Neural Network (CNN) model.\n",
        "  \n",
        "  Returns:\n",
        "  - model (tensorflow.keras.models.Sequential): The compiled CNN model.\n",
        "  \n",
        "  \"\"\"\n",
        "  model = Sequential()\n",
        "  model.add(Conv1D(8,kernel_size=7,strides=1,padding='same',activation='ReLU',input_shape=(5000,1)))\n",
        "  model.add(MaxPooling1D(pool_size=4,strides=4))\n",
        "  model.add(Conv1D(16,kernel_size=8,strides=1,padding='same',activation='ReLU'))\n",
        "  model.add(MaxPooling1D(pool_size=4,strides=4))\n",
        "  model.add(Flatten())\n",
        "  model.add(Dense(50, activation='ReLU'))\n",
        "  model.add(Dense(20, activation='ReLU'))\n",
        "  model.add(Dense(2, activation='softmax'))\n",
        "  \n",
        "  # Compile model\n",
        "  optimizer=Adam(learning_rate=0.001)\n",
        "  model.compile(loss='mse', optimizer=optimizer, metrics=['accuracy'])\n",
        "  return model\n",
        "\n",
        "\n",
        "def train(X, Y, classifier):\n",
        "  \n",
        "  \"\"\"\n",
        "  Trains and evaluates the specified classifier on the input data using stratified k-fold cross-validation.\n",
        "  \n",
        "  Args:\n",
        "  - X (numpy array): The feature variables.\n",
        "  - Y (pandas Series): The target variable.\n",
        "  - classifier (str): The name of the classifier to use. Valid options are: \"CNN\", \"LR\" (Logistic Regression),\n",
        "   \"RF\" (Random Forest), \"SVM\" (Support Vector Machine), and \"GB\" (Gradient Boosting Machine).\n",
        "  \n",
        "  Returns:\n",
        "  - None\n",
        "  \n",
        "  \"\"\"\n",
        "\n",
        "  #fix random seed for reproducibility\n",
        "  seed = 7\n",
        "  np.random.seed(seed)\n",
        "  kfold = StratifiedKFold(n_splits=10, shuffle=True, random_state=seed)\n",
        "  fold=1\n",
        "  accuracy=[]\n",
        "  for train, test in kfold.split(X, Y):\n",
        "    print(\"Training on Fold %s ...\"%fold)\n",
        "    X_train = X[train].reshape( X[train].shape[0],X[train].shape[1],1)\n",
        "    X_test = X[test].reshape(X[test].shape[0],X[test].shape[1],1)\n",
        "    Y_train = to_categorical(Y[train])\n",
        "    Y_test =  to_categorical(Y[test])\n",
        "    model=CNN()\n",
        "    \n",
        "    if(classifier =='CNN'):\n",
        "      model.fit(X_train, Y_train, epochs=100, batch_size=12, verbose=0)\n",
        "       # evaluate the model\n",
        "      scores = model.evaluate(X_test, Y_test, verbose=1)\n",
        "      acc = scores[1]\n",
        "    \n",
        "    else:\n",
        "      model = Model(inputs=model.inputs, outputs=model.layers[-4].output)\n",
        "      Training_features = np.array(model.predict(X_train))\n",
        "      Training_labels = np.argmax(Y_train,axis=1)\n",
        "\n",
        "      Testing_Features = np.array(model.predict(X_test))\n",
        "      Testing_labels = np.argmax(Y_test,axis=1)\n",
        "\n",
        "      if (classifier == \"LR\"):\n",
        "        clf = LogisticRegression(max_iter=1000, random_state=1)\n",
        "      elif (classifier == \"RF\"):\n",
        "        clf = RandomForestClassifier(random_state=1)\n",
        "      elif (classifier == \"SVM\"):\n",
        "        clf = SVC(kernel='poly', degree=3, C=50)\n",
        "      elif (classifier == \"GB\"):\n",
        "        clf=GradientBoostingClassifier(random_state=1)\n",
        "      else:\n",
        "        print(\"Invalid Classifier\")\n",
        "        return\n",
        "\n",
        "      scores = clf.fit(Training_features, Training_labels)\n",
        "      print(\"Completed.\")\n",
        "      acc = clf.score(Testing_Features,Testing_labels)\n",
        "\n",
        "    print(\"Accuracy: \", acc*100)\n",
        "    accuracy.append(acc*100)\n",
        "    fold=fold+1\n",
        "\n",
        "  print(\"Total Accuracy using %s: \"%classifier, np.mean(accuracy),\"+/-\", np.std(accuracy))\n",
        "\n",
        "def main():\n",
        "\n",
        "  \"\"\"\n",
        "\n",
        "  entry point of the program. It prompts the user to choose a classifier and a dataset file, loads and preprocesses the data, \n",
        "  and trains the selected classifier using k-fold cross-validation.\n",
        "\n",
        "  \"\"\"\n",
        "  \n",
        "  print(\"Choose one from the following classifiers \")\n",
        "  print(\"1) CNN for Convolutional Neural Network\")\n",
        "  print(\"2) LR for Logistic Regression\")\n",
        "  print(\"3) RF for Random Forest\")\n",
        "  print(\"4) SVM for Support vector Machine\")\n",
        "  print(\"5) GB for Gradient Boosting Machine\")\n",
        "\n",
        "  # Enter the path of the directory where your code is stored\n",
        "  os.chdir('/content/drive/MyDrive/Schizophrenia_ResearchPaper/Individual_Channel')\n",
        "\n",
        "  classifier=str(input(\"Enter the name of classifier: \" ))\n",
        "  filename=str(input(\"Enter the name of dataset file (EEG channel name): \"))\n",
        "  \n",
        "\n",
        "  print(\"Dataset Loading...\")\n",
        "  X, Y = load_dataset(\"./Dataset/%s.csv\"%filename)\n",
        "  print(\"Dataset Loaded\")\n",
        "\n",
        "  X_pre = dataPreprocessing(X, Y)\n",
        "  print(\"Preprocessing Completed\")\n",
        "  \n",
        "  train(X_pre, Y, classifier)    \n",
        "\n"
      ]
    },
    {
      "cell_type": "markdown",
      "metadata": {
        "id": "x1tB7vSCLdt0"
      },
      "source": [
        "In this section, we will train convolutional neural network on each EEG channel separately to study the effect of each channel on the Schizophrenia disease.\n",
        "\n"
      ]
    },
    {
      "cell_type": "markdown",
      "metadata": {
        "id": "uYkTq_3VEjle"
      },
      "source": [
        "Results:\n",
        "\n",
        "---\n",
        "\n",
        "\n",
        "The results for CNN and logistic Regression on Fp1 channel are given below. To find the accuracy for other channels or models, you can use the same main() function. Only Specify the name of dataset file and the model name in the input and the main() will train the model on the specified dataset and return the accuracy. The remaining results are given in the paper.\n",
        "\n",
        "\n",
        "\n",
        "> Note:\n",
        "Results may vary as on every run, CNN initialize weights randomly, therefore during the learning process these will get updated differently. In the paper, We have trained the CNN multiple times and those weights are stored on which maximum accuracy is achieved."
      ]
    },
    {
      "cell_type": "code",
      "execution_count": null,
      "metadata": {
        "colab": {
          "background_save": true,
          "base_uri": "https://localhost:8080/"
        },
        "id": "DJw6ft4x-5DM",
        "outputId": "9777bfb1-64f2-450a-e9e3-bd21a5c121a0"
      },
      "outputs": [
        {
          "name": "stdout",
          "output_type": "stream",
          "text": [
            "Choose one from the following classifiers \n",
            "1) CNN for Convolutional Neural Network\n",
            "2) LR for Logistic Regression\n",
            "3) RF for Random Forest\n",
            "4) SVM for Support vector Machine\n",
            "5) GB for Gradient Boosting Machine\n",
            "Dataset Loading...\n",
            "Dataset Loaded\n",
            "Preprocessing Completed\n",
            "Training on Fold 1 ...\n",
            "5/5 [==============================] - 0s 26ms/step - loss: 0.2206 - accuracy: 0.7500\n",
            "Accuracy:  75.0\n",
            "Training on Fold 2 ...\n",
            "5/5 [==============================] - 0s 32ms/step - loss: 0.4514 - accuracy: 0.5486\n",
            "Accuracy:  54.86111044883728\n",
            "Training on Fold 3 ...\n",
            "5/5 [==============================] - 1s 48ms/step - loss: 0.2645 - accuracy: 0.7083\n",
            "Accuracy:  70.83333134651184\n",
            "Training on Fold 4 ...\n",
            "5/5 [==============================] - 0s 27ms/step - loss: 0.2484 - accuracy: 0.7273\n",
            "Accuracy:  72.72727489471436\n",
            "Training on Fold 5 ...\n",
            "5/5 [==============================] - 1s 47ms/step - loss: 0.3015 - accuracy: 0.6573\n",
            "Accuracy:  65.73426723480225\n",
            "Training on Fold 6 ...\n",
            "5/5 [==============================] - 0s 28ms/step - loss: 0.2240 - accuracy: 0.7413\n",
            "Accuracy:  74.12587404251099\n",
            "Training on Fold 7 ...\n",
            "5/5 [==============================] - 0s 28ms/step - loss: 0.2797 - accuracy: 0.7133\n",
            "Accuracy:  71.32866978645325\n",
            "Training on Fold 8 ...\n",
            "5/5 [==============================] - 0s 27ms/step - loss: 0.2322 - accuracy: 0.7203\n",
            "Accuracy:  72.02796936035156\n",
            "Training on Fold 9 ...\n",
            "5/5 [==============================] - 0s 25ms/step - loss: 0.2994 - accuracy: 0.6923\n",
            "Accuracy:  69.2307710647583\n",
            "Training on Fold 10 ...\n",
            "5/5 [==============================] - 0s 26ms/step - loss: 0.2136 - accuracy: 0.7552\n",
            "Accuracy:  75.52447319030762\n",
            "Total Accuracy using CNN:  70.13937413692474 +/- 5.782153991189042\n"
          ]
        }
      ],
      "source": [
        "# Results of Fp1 on CNN\n",
        "main()"
      ]
    },
    {
      "cell_type": "code",
      "source": [
        "# Results of Fp1 on Logistic Regression\n",
        "main()"
      ],
      "metadata": {
        "colab": {
          "base_uri": "https://localhost:8080/"
        },
        "id": "PmRvPEXcRzXS",
        "outputId": "4557da60-3468-4692-d248-149081873269"
      },
      "execution_count": null,
      "outputs": [
        {
          "output_type": "stream",
          "name": "stdout",
          "text": [
            "Choose one from the following classifiers \n",
            "1) CNN for Convolutional Neural Network\n",
            "2) LR for Logistic Regression\n",
            "3) RF for Random Forest\n",
            "4) SVM for Support vector Machine\n",
            "5) GB for Gradient Boosting Machine\n",
            "Enter the name of classifier: LR\n",
            "Enter the name of dataset file (EEG channel name): Fp1\n",
            "Dataset Loading...\n",
            "Dataset Loaded\n",
            "Preprocessing Completed\n",
            "Training on Fold 1 ...\n",
            "41/41 [==============================] - 0s 2ms/step\n",
            "5/5 [==============================] - 0s 3ms/step\n",
            "Completed.\n",
            "Accuracy:  68.05555555555556\n",
            "Training on Fold 2 ...\n",
            "41/41 [==============================] - 0s 2ms/step\n",
            "5/5 [==============================] - 0s 3ms/step\n",
            "Completed.\n",
            "Accuracy:  58.333333333333336\n",
            "Training on Fold 3 ...\n",
            "41/41 [==============================] - 0s 2ms/step\n",
            "5/5 [==============================] - 0s 3ms/step\n",
            "Completed.\n",
            "Accuracy:  65.97222222222221\n",
            "Training on Fold 4 ...\n",
            "41/41 [==============================] - 0s 3ms/step\n",
            "5/5 [==============================] - 0s 3ms/step\n",
            "Completed.\n",
            "Accuracy:  66.43356643356644\n",
            "Training on Fold 5 ...\n",
            "41/41 [==============================] - 0s 2ms/step\n",
            "5/5 [==============================] - 0s 3ms/step\n",
            "Completed.\n",
            "Accuracy:  62.93706293706294\n",
            "Training on Fold 6 ...\n",
            "41/41 [==============================] - 0s 4ms/step\n",
            "5/5 [==============================] - 0s 3ms/step\n",
            "Completed.\n",
            "Accuracy:  60.83916083916085\n",
            "Training on Fold 7 ...\n",
            "41/41 [==============================] - 0s 3ms/step\n",
            "5/5 [==============================] - 0s 3ms/step\n",
            "Completed.\n",
            "Accuracy:  66.43356643356644\n",
            "Training on Fold 8 ...\n",
            "41/41 [==============================] - 0s 5ms/step\n",
            "5/5 [==============================] - 0s 3ms/step\n",
            "Completed.\n",
            "Accuracy:  57.34265734265735\n",
            "Training on Fold 9 ...\n",
            "41/41 [==============================] - 0s 2ms/step\n",
            "5/5 [==============================] - 0s 3ms/step\n",
            "Completed.\n",
            "Accuracy:  69.23076923076923\n",
            "Training on Fold 10 ...\n",
            "41/41 [==============================] - 0s 3ms/step\n",
            "5/5 [==============================] - 0s 3ms/step\n",
            "Completed.\n",
            "Accuracy:  66.43356643356644\n",
            "Total Accuracy using LR:  64.20114607614607 +/- 3.9065629291320243\n"
          ]
        }
      ]
    }
  ],
  "metadata": {
    "accelerator": "GPU",
    "colab": {
      "provenance": [],
      "collapsed_sections": [
        "gm4CvYE-sobG"
      ]
    },
    "kernelspec": {
      "display_name": "Python 3",
      "name": "python3"
    },
    "language_info": {
      "name": "python"
    }
  },
  "nbformat": 4,
  "nbformat_minor": 0
}